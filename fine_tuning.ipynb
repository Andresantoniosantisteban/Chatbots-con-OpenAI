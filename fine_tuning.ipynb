{
  "cells": [
    {
      "cell_type": "markdown",
      "metadata": {
        "id": "view-in-github",
        "colab_type": "text"
      },
      "source": [
        "<a href=\"https://colab.research.google.com/github/Andresantoniosantisteban/Chatbots-con-OpenAI/blob/main/fine_tuning.ipynb\" target=\"_parent\"><img src=\"https://colab.research.google.com/assets/colab-badge.svg\" alt=\"Open In Colab\"/></a>"
      ]
    },
    {
      "cell_type": "markdown",
      "metadata": {
        "id": "mPRcLl8I2aUc"
      },
      "source": [
        "## Importar librería de OpenAI"
      ]
    },
    {
      "cell_type": "code",
      "execution_count": null,
      "metadata": {
        "colab": {
          "base_uri": "https://localhost:8080/"
        },
        "collapsed": true,
        "id": "BVU9ROzA2aUf",
        "outputId": "b4c4c1ee-5ccd-4eef-fee7-bb47b97e857c"
      },
      "outputs": [
        {
          "output_type": "stream",
          "name": "stdout",
          "text": [
            "Requirement already satisfied: openai in /usr/local/lib/python3.10/dist-packages (1.40.3)\n",
            "Requirement already satisfied: anyio<5,>=3.5.0 in /usr/local/lib/python3.10/dist-packages (from openai) (3.7.1)\n",
            "Requirement already satisfied: distro<2,>=1.7.0 in /usr/lib/python3/dist-packages (from openai) (1.7.0)\n",
            "Requirement already satisfied: httpx<1,>=0.23.0 in /usr/local/lib/python3.10/dist-packages (from openai) (0.27.0)\n",
            "Requirement already satisfied: jiter<1,>=0.4.0 in /usr/local/lib/python3.10/dist-packages (from openai) (0.5.0)\n",
            "Requirement already satisfied: pydantic<3,>=1.9.0 in /usr/local/lib/python3.10/dist-packages (from openai) (2.8.2)\n",
            "Requirement already satisfied: sniffio in /usr/local/lib/python3.10/dist-packages (from openai) (1.3.1)\n",
            "Requirement already satisfied: tqdm>4 in /usr/local/lib/python3.10/dist-packages (from openai) (4.66.5)\n",
            "Requirement already satisfied: typing-extensions<5,>=4.11 in /usr/local/lib/python3.10/dist-packages (from openai) (4.12.2)\n",
            "Requirement already satisfied: idna>=2.8 in /usr/local/lib/python3.10/dist-packages (from anyio<5,>=3.5.0->openai) (3.7)\n",
            "Requirement already satisfied: exceptiongroup in /usr/local/lib/python3.10/dist-packages (from anyio<5,>=3.5.0->openai) (1.2.2)\n",
            "Requirement already satisfied: certifi in /usr/local/lib/python3.10/dist-packages (from httpx<1,>=0.23.0->openai) (2024.7.4)\n",
            "Requirement already satisfied: httpcore==1.* in /usr/local/lib/python3.10/dist-packages (from httpx<1,>=0.23.0->openai) (1.0.5)\n",
            "Requirement already satisfied: h11<0.15,>=0.13 in /usr/local/lib/python3.10/dist-packages (from httpcore==1.*->httpx<1,>=0.23.0->openai) (0.14.0)\n",
            "Requirement already satisfied: annotated-types>=0.4.0 in /usr/local/lib/python3.10/dist-packages (from pydantic<3,>=1.9.0->openai) (0.7.0)\n",
            "Requirement already satisfied: pydantic-core==2.20.1 in /usr/local/lib/python3.10/dist-packages (from pydantic<3,>=1.9.0->openai) (2.20.1)\n",
            "Requirement already satisfied: python-dotenv in /usr/local/lib/python3.10/dist-packages (1.0.1)\n"
          ]
        }
      ],
      "source": [
        "!pip install openai\n",
        "!pip install python-dotenv\n",
        "from google.colab import userdata\n",
        "from openai import OpenAI\n",
        "client = OpenAI(api_key=userdata.get('API_OpenAI'))"
      ]
    },
    {
      "cell_type": "markdown",
      "metadata": {
        "id": "ZNoheX0j2aUg"
      },
      "source": [
        "## Cargar datasets\n",
        "\n",
        "Carga los archivos de los datasets a la plataforma de OpenAI. Esto te generará un ID del archivo que usarás para el fine-tuning del modelo base."
      ]
    },
    {
      "cell_type": "code",
      "source": [
        "from google.colab import drive\n",
        "drive.mount('/content/drive')\n",
        "archivo_entrenamiento = '/content/drive/MyDrive/Colab_Notebooks/Curso_de_Desarrollo_de_Chatbots_con_OpenAI/Dataset_entrenamiento/data_train.jsonl'\n",
        "archivo_validacion = '/content/drive/MyDrive/Colab_Notebooks/Curso_de_Desarrollo_de_Chatbots_con_OpenAI/Dataset_entrenamiento/data_val.jsonl'\n",
        "\n"
      ],
      "metadata": {
        "colab": {
          "base_uri": "https://localhost:8080/"
        },
        "id": "iWLtemOuJBCM",
        "outputId": "d28238d0-07fd-4902-83ed-02a016fd1478"
      },
      "execution_count": null,
      "outputs": [
        {
          "output_type": "stream",
          "name": "stdout",
          "text": [
            "Drive already mounted at /content/drive; to attempt to forcibly remount, call drive.mount(\"/content/drive\", force_remount=True).\n"
          ]
        }
      ]
    },
    {
      "cell_type": "markdown",
      "metadata": {
        "id": "WYrPKog62aUg"
      },
      "source": [
        "### Dataset de entrenamiento"
      ]
    },
    {
      "cell_type": "code",
      "source": [
        "response_entrenamiento = client.files.create(\n",
        "  file=open(archivo_entrenamiento, \"rb\"),\n",
        "  purpose=\"fine-tune\"\n",
        ")"
      ],
      "metadata": {
        "id": "THBxEkWCIOEg"
      },
      "execution_count": null,
      "outputs": []
    },
    {
      "cell_type": "markdown",
      "metadata": {
        "id": "nNMGRwjQ2aUh"
      },
      "source": [
        "### Dataset de validación"
      ]
    },
    {
      "cell_type": "code",
      "execution_count": null,
      "metadata": {
        "id": "yleo4dEh2aUh"
      },
      "outputs": [],
      "source": [
        "response_validacion  = client.files.create(\n",
        "  file=open(archivo_validacion, \"rb\"),\n",
        "  purpose=\"fine-tune\"\n",
        ")"
      ]
    },
    {
      "cell_type": "markdown",
      "metadata": {
        "id": "wqMVzDSv2aUh"
      },
      "source": [
        "## Fine-tuning de modelo base"
      ]
    },
    {
      "cell_type": "markdown",
      "metadata": {
        "id": "_3IP739Z2aUh"
      },
      "source": [
        "Crea un proceso de fine-tuning.\n",
        "\n",
        "- Necesitas el id de tus dos archivos de datasets de entrenamiento y validación.\n",
        "- Además del nombre del modelo base.\n",
        "\n",
        "Este código iniciará el proceso de fine-tuning que podrás darle seguimiento en la plataforma de OpenAI."
      ]
    },
    {
      "cell_type": "code",
      "execution_count": null,
      "metadata": {
        "id": "rsX5Kjep2aUi",
        "colab": {
          "base_uri": "https://localhost:8080/"
        },
        "outputId": "70d43b57-d9be-44ad-aab5-0ef5ea1328dd"
      },
      "outputs": [
        {
          "output_type": "execute_result",
          "data": {
            "text/plain": [
              "FineTuningJob(id='ftjob-ebZ0MnneQEtNpG1MYMrUZ4qL', created_at=1723390510, error=Error(code=None, message=None, param=None), fine_tuned_model=None, finished_at=None, hyperparameters=Hyperparameters(n_epochs='auto', batch_size='auto', learning_rate_multiplier='auto'), model='gpt-4o-mini-2024-07-18', object='fine_tuning.job', organization_id='org-GL7oZofefSyAwokAVFY9Kpec', result_files=[], seed=811998925, status='validating_files', trained_tokens=None, training_file='file-dRfgNqj0oHLDg9Pv2TjSDZFR', validation_file='file-1hV1UViSIN70ToQVH2sOIa7Z', estimated_finish=None, integrations=[], user_provided_suffix=None)"
            ]
          },
          "metadata": {},
          "execution_count": 24
        }
      ],
      "source": [
        "client.fine_tuning.jobs.create(\n",
        "  training_file= response_entrenamiento.id,\n",
        "  validation_file= response_validacion.id,\n",
        "  model=\"gpt-4o-mini-2024-07-18\" #Puedes cambiar el modelo base según lo necesites.\n",
        ")"
      ]
    },
    {
      "cell_type": "markdown",
      "metadata": {
        "id": "3JHmwm-I2aUi"
      },
      "source": [
        "## Listar y eliminar modelos con fine-tuning"
      ]
    },
    {
      "cell_type": "markdown",
      "metadata": {
        "id": "KYLwpL9V2aUi"
      },
      "source": [
        "### Listar modelos en tu organización"
      ]
    },
    {
      "cell_type": "code",
      "execution_count": null,
      "metadata": {
        "id": "qTLJDu522aUi",
        "colab": {
          "base_uri": "https://localhost:8080/"
        },
        "outputId": "ddec8691-9a51-4f95-95d3-4678743722f9"
      },
      "outputs": [
        {
          "output_type": "execute_result",
          "data": {
            "text/plain": [
              "SyncCursorPage[FineTuningJob](data=[FineTuningJob(id='ftjob-ebZ0MnneQEtNpG1MYMrUZ4qL', created_at=1723390510, error=Error(code=None, message=None, param=None), fine_tuned_model=None, finished_at=None, hyperparameters=Hyperparameters(n_epochs=3, batch_size=2, learning_rate_multiplier=1.8), model='gpt-4o-mini-2024-07-18', object='fine_tuning.job', organization_id='org-GL7oZofefSyAwokAVFY9Kpec', result_files=[], seed=811998925, status='validating_files', trained_tokens=None, training_file='file-dRfgNqj0oHLDg9Pv2TjSDZFR', validation_file='file-1hV1UViSIN70ToQVH2sOIa7Z', estimated_finish=None, integrations=[], user_provided_suffix=None), FineTuningJob(id='ftjob-oxWgKFKFpRgJ87qaCsw8Hv2e', created_at=1723221808, error=Error(code=None, message=None, param=None), fine_tuned_model='ft:gpt-4o-mini-2024-07-18:personal:my-firts-gpt:9uNhZidP', finished_at=1723224504, hyperparameters=Hyperparameters(n_epochs=3, batch_size=2, learning_rate_multiplier=1.8), model='gpt-4o-mini-2024-07-18', object='fine_tuning.job', organization_id='org-GL7oZofefSyAwokAVFY9Kpec', result_files=['file-gX8FpbuxkSRxzxceDj4e6zBE'], seed=548, status='succeeded', trained_tokens=424872, training_file='file-SQ4VheBSA5YDFE6hvi8O6Wii', validation_file='file-XwntPfdDvLLRbaFPrmZf4Dm7', estimated_finish=None, integrations=[], user_provided_suffix='my-firts-gpt')], object='list', has_more=False)"
            ]
          },
          "metadata": {},
          "execution_count": 25
        }
      ],
      "source": [
        "client.fine_tuning.jobs.list(limit=10)"
      ]
    },
    {
      "cell_type": "markdown",
      "metadata": {
        "id": "6v7J0_RR2aUi"
      },
      "source": [
        "### Eliminar modelos de tu organización"
      ]
    },
    {
      "cell_type": "code",
      "execution_count": null,
      "metadata": {
        "id": "sGQHr-Im2aUi"
      },
      "outputs": [],
      "source": [
        "client.models.delete(\"INGRESA EL NOMBRE DEL MODELO A ELIMINAR\")"
      ]
    }
  ],
  "metadata": {
    "kernelspec": {
      "display_name": "openaicourse",
      "language": "python",
      "name": "python3"
    },
    "language_info": {
      "codemirror_mode": {
        "name": "ipython",
        "version": 3
      },
      "file_extension": ".py",
      "mimetype": "text/x-python",
      "name": "python",
      "nbconvert_exporter": "python",
      "pygments_lexer": "ipython3",
      "version": "3.9.0"
    },
    "colab": {
      "provenance": [],
      "include_colab_link": true
    }
  },
  "nbformat": 4,
  "nbformat_minor": 0
}